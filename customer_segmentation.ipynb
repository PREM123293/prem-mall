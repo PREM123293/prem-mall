{
 "cells": [
  {
   "cell_type": "markdown",
   "metadata": {},
   "source": [
    "# Customer Segmentation using K-Means Clustering"
   ]
  },
  {
   "cell_type": "code",
   "metadata": {},
   "source": [
    "import pandas as pd\n",
    "import numpy as np\n",
    "import matplotlib.pyplot as plt\n",
    "import seaborn as sns\n",
    "from sklearn.cluster import KMeans\n",
    "from sklearn.preprocessing import StandardScaler\n",
    "\n",
    "# Load dataset\n",
    "df = pd.read_csv('../data/prem_data_2.csv')\n",
    "print('Dataset Loaded Successfully ✅')\n",
    "df.head()"
   ]
  },
  {
   "cell_type": "code",
   "metadata": {},
   "source": [
    "print('\nDataset Info:')\n",
    "print(df.info())\n",
    "print('\nMissing Values:\n', df.isnull().sum())\n",
    "\n",
    "df.dropna(inplace=True)\n",
    "\n",
    "df.rename(columns=lambda x: x.strip().lower().replace(' ', '_'), inplace=True)\n",
    "cols = df.columns\n",
    "print('\nAvailable Columns:', cols)\n",
    "\n",
    "features = df[['annual_income', 'spending_score']].copy()\n",
    "\n",
    "scaler = StandardScaler()\n",
    "scaled_features = scaler.fit_transform(features)\n",
    "\n",
    "inertia = []\n",
    "for i in range(1, 11):\n",
    "    kmeans = KMeans(n_clusters=i, random_state=42)\n",
    "    kmeans.fit(scaled_features)\n",
    "    inertia.append(kmeans.inertia_)\n",
    "\n",
    "plt.figure(figsize=(8, 5))\n",
    "plt.plot(range(1, 11), inertia, marker='o', linestyle='--')\n",
    "plt.title('Elbow Method for Optimal K')\n",
    "plt.xlabel('Number of clusters')\n",
    "plt.ylabel('Inertia')\n",
    "plt.show()"
   ]
  },
  {
   "cell_type": "code",
   "metadata": {},
   "source": [
    "kmeans = KMeans(n_clusters=5, random_state=42)\n",
    "df['Cluster'] = kmeans.fit_predict(scaled_features)\n",
    "\n",
    "plt.figure(figsize=(8, 6))\n",
    "sns.scatterplot(x='annual_income', y='spending_score', hue='Cluster', data=df, palette='viridis', s=80)\n",
    "plt.title('Customer Segments based on Income and Spending')\n",
    "plt.xlabel('Annual Income')\n",
    "plt.ylabel('Spending Score')\n",
    "plt.legend()\n",
    "plt.show()\n",
    "\n",
    "cluster_summary = df.groupby('Cluster')[['annual_income', 'spending_score']].mean()\n",
    "print('\nCluster Summary:')\n",
    "print(cluster_summary)\n",
    "\n",
    "df.to_csv('../data/segmented_customers.csv', index=False)\n",
    "print('\nSegmented customer data saved successfully ✅')"
   ]
  }
 ],
 "metadata": {
  "kernelspec": {
   "display_name": "Python 3",
   "language": "python",
   "name": "python3"
  },
  "language_info": {
   "name": "python",
   "version": "3.x"
  }
 },
 "nbformat": 4,
 "nbformat_minor": 5
}